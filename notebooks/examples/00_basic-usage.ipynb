{
 "cells": [
  {
   "cell_type": "markdown",
   "metadata": {},
   "source": [
    "# ImkLib2 Basic Usage\n",
    "\n",
    "imklib2 is currently not available through remote maven repositories. To install into your local maven repository, run\n",
    "```\n",
    "./gradlew build publishToMavenLocal\n",
    "```\n",
    "in the project's root directory."
   ]
  },
  {
   "cell_type": "code",
   "execution_count": 1,
   "metadata": {},
   "outputs": [],
   "source": [
    "// set up dependencies\n",
    "\n",
    "// use local repo for now; not deployed to remote maven repo yet\n",
    "@file:Repository(\"*mavenLocal\")\n",
    "// requires installation into local maven repository (./gradlew build publishToMavenLocal)\n",
    "@file:DependsOn(\"net.imglib2:imklib2:0.1.0-SNAPSHOT\")"
   ]
  },
  {
   "cell_type": "markdown",
   "metadata": {},
   "source": [
    "Simply import all names from the `net.imglib2.imklib` package to get started:"
   ]
  },
  {
   "cell_type": "code",
   "execution_count": 2,
   "metadata": {},
   "outputs": [],
   "source": [
    "import net.imglib2.imklib.*"
   ]
  },
  {
   "cell_type": "markdown",
   "metadata": {},
   "source": [
    "## Generate Data\n",
    "\n",
    "Create ImgLib2 `ArrayImg`s with the `imgs` object. The images are backed by Java primitive type arrays. Images can be created\n",
    " 1. with dimensions only (populate with default primitive type array value, usually `0`)\n",
    " 2. with dimensions and initializer that consumes linear index and type at voxel\n",
    " 3. with dimensions and initializer that produces a primitive type value for linear index\n",
    "\n",
    "Note: Use `flatStringRepresentation` only for small images."
   ]
  },
  {
   "cell_type": "code",
   "execution_count": 9,
   "metadata": {},
   "outputs": [
    {
     "name": "stdout",
     "output_type": "stream",
     "text": [
      "ArrayImg [1x2x3]: [false ,false ,false ,false ,false ,false]\n",
      "ArrayImg [1x2x3]: [(r=0,g=1,b=244,a=0) ,(r=0,g=2,b=88,a=0) ,(r=0,g=2,b=188,a=0) ,(r=0,g=3,b=32,a=0) ,(r=0,g=3,b=132,a=0) ,(r=0,g=3,b=232,a=0)]\n",
      "ArrayImg [1x2x3]: [9223372036854775808 ,9223372036854775808 ,9223372036854775808 ,9223372036854775808 ,9223372036854775808 ,9223372036854775808]\n",
      "ArrayImg [1x2x3]: [0.5 ,1.5 ,2.5 ,3.5 ,4.5 ,5.5]\n",
      "ArrayImg [1x2x3]: [1.0 ,2.0 ,3.0 ,4.0 ,5.0 ,6.0]\n"
     ]
    }
   ],
   "source": [
    "// dims only (1)\n",
    "println(imgs.booleans(1L, 2L, 3L).flatStringRepresentation)\n",
    "// dims with initializer (2)\n",
    "println(imgs.argbs(1L, 2L, 3L) { i, argb -> argb.set((i+5) * 100) }.flatStringRepresentation)\n",
    "// dims with initializer (3)\n",
    "println(imgs.unsignedLongs(1L, 2L, 3L) { _ -> Long.MIN_VALUE }.flatStringRepresentation)\n",
    "println(imgs.floats(1L, 2L, 3L) { i -> i.toFloat() + 0.5f }.flatStringRepresentation)\n",
    "println(imgs.doubles(1L, 2L, 3L) { i -> i.toDouble() + 1.0 }.flatStringRepresentation)"
   ]
  },
  {
   "cell_type": "markdown",
   "metadata": {},
   "source": [
    "Virtual images can be created without any data allocation. The values are generated on request. If no interval is specified, the domain of the image will be unbounded"
   ]
  },
  {
   "cell_type": "code",
   "execution_count": 10,
   "metadata": {},
   "outputs": [
    {
     "name": "stdout",
     "output_type": "stream",
     "text": [
      "net.imglib2.util.ConstantUtils$1@21f654a9\n",
      "IntervalView [(0, 0, 0) -- (0, 1, 2) = 1x2x3]: [0.0 ,0.0 ,0.0 ,0.0 ,0.0 ,0.0]\n"
     ]
    }
   ],
   "source": [
    "val dims = longArrayOf(1L, 2L, 3L)\n",
    "println(zeros(3))\n",
    "println(zeros(dims.interval).flatStringRepresentation)"
   ]
  },
  {
   "cell_type": "markdown",
   "metadata": {},
   "source": [
    "You can restrict the bounds of any image (bound or unbound) to any interval (of the same dimensionality) with the bracket operator `[]`. Note that, for bounded images, the new bounds are not checked for consistency with existing bounds."
   ]
  },
  {
   "cell_type": "code",
   "execution_count": 11,
   "metadata": {},
   "outputs": [
    {
     "name": "stdout",
     "output_type": "stream",
     "text": [
      "net.imglib2.util.ConstantUtils$1@5296f15c\n",
      "IntervalView [(0, 0, 0) -- (0, 1, 2) = 1x2x3]: [1.0 ,1.0 ,1.0 ,1.0 ,1.0 ,1.0]\n",
      "IntervalView [(0, 0, 0) -- (0, 1, 2) = 1x2x3]: [1.0 ,1.0 ,1.0 ,1.0 ,1.0 ,1.0]\n",
      "IntervalView [(0, 0, 0) -- (0, 0, 0) = 1x1x1]: [1.0]\n"
     ]
    }
   ],
   "source": [
    "println(ones(3))\n",
    "println(ones(3)[dims.interval].flatStringRepresentation)\n",
    "println(ones(dims.interval).flatStringRepresentation)\n",
    "println(ones(longArrayOf(1, 1, 1).interval).flatStringRepresentation)"
   ]
  },
  {
   "cell_type": "markdown",
   "metadata": {},
   "source": [
    "For the inverse operation, bounded images can be extended with various strategies. In this example, the extended images are bounded to larger bounds than the original image to demonstrate the extension. One-dimensional images are used because the visualization with flat Strings will be more meaningful."
   ]
  },
  {
   "cell_type": "code",
   "execution_count": 34,
   "metadata": {},
   "outputs": [
    {
     "name": "stdout",
     "output_type": "stream",
     "text": [
      "Original image:             ArrayImg [5]: [1.5 ,2.5 ,3.5 ,2.5 ,1.5]\n",
      "Extend with zeros:          IntervalView [(-3) -- (7) = 11]: [0.0 ,0.0 ,0.0 ,1.5 ,2.5 ,3.5 ,2.5 ,1.5 ,0.0 ,0.0 ,0.0]\n",
      "Extend with value:          IntervalView [(-3) -- (7) = 11]: [3.14 ,3.14 ,3.14 ,1.5 ,2.5 ,3.5 ,2.5 ,1.5 ,3.14 ,3.14 ,3.14]\n",
      "Extend with border value:   IntervalView [(-3) -- (7) = 11]: [1.5 ,1.5 ,1.5 ,1.5 ,2.5 ,3.5 ,2.5 ,1.5 ,1.5 ,1.5 ,1.5]\n",
      "Extend mirror single:       IntervalView [(-3) -- (7) = 11]: [2.5 ,3.5 ,2.5 ,1.5 ,2.5 ,3.5 ,2.5 ,1.5 ,2.5 ,3.5 ,2.5]\n",
      "Extend mirror double:       IntervalView [(-3) -- (7) = 11]: [3.5 ,2.5 ,1.5 ,1.5 ,2.5 ,3.5 ,2.5 ,1.5 ,1.5 ,2.5 ,3.5]\n"
     ]
    }
   ],
   "source": [
    "val dims = longArrayOf(5)\n",
    "val extended = longArrayOf(-3, 7).intervalMinMax\n",
    "val img = imgs.doubles(*dims) { i -> 3.5 - abs(2.0 - i) }\n",
    "println(\"Original image:             ${img.flatStringRepresentation}\")\n",
    "println(\"Extend with zeros:          ${img.extendZero()[extended].flatStringRepresentation}\")\n",
    "println(\"Extend with value:          ${img.extendValue(3.14)[extended].flatStringRepresentation}\")\n",
    "println(\"Extend with border value:   ${img.extendBorder()[extended].flatStringRepresentation}\")\n",
    "println(\"Extend mirror single:       ${img.extendMirrorSingle()[extended].flatStringRepresentation}\")\n",
    "println(\"Extend mirror double:       ${img.extendMirrorDouble()[extended].flatStringRepresentation}\")"
   ]
  }
 ],
 "metadata": {
  "kernelspec": {
   "display_name": "Kotlin",
   "language": "kotlin",
   "name": "kotlin"
  },
  "language_info": {
   "codemirror_mode": "text/x-kotlin",
   "file_extension": ".kt",
   "mimetype": "text/x-kotlin",
   "name": "kotlin",
   "pygments_lexer": "kotlin",
   "version": "1.4.20-dev-2342"
  }
 },
 "nbformat": 4,
 "nbformat_minor": 4
}
