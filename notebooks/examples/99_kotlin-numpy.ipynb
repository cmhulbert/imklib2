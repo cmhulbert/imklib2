{
 "cells": [
  {
   "cell_type": "code",
   "execution_count": 1,
   "metadata": {},
   "outputs": [],
   "source": [
    "// set up dependencies\n",
    "\n",
    "// requires Python and numpy installation. Worked with Python==3.6 but not Python>=3.7\n",
    "\n",
    "// use local repo for now; not deployed to remote maven repo yet\n",
    "@file:Repository(\"*mavenLocal\")\n",
    "@file:Repository(\"https://dl.bintray.com/kotlin/kotlin-numpy\")\n",
    "@file:Repository(\"https://maven.scijava.org/content/groups/public\")\n",
    "// requires installation into local maven repository (./gradlew build publishToMavenLocal)\n",
    "@file:DependsOn(\"net.imglib2:imklib2:0.1.0-SNAPSHOT\")\n",
    "@file:DependsOn(\"org.jetbrains:kotlin-numpy:0.1.4\")"
   ]
  },
  {
   "cell_type": "code",
   "execution_count": 2,
   "metadata": {},
   "outputs": [],
   "source": [
    "import net.imglib2.img.array.ArrayImgs\n",
    "import net.imglib2.imklib.*\n",
    "import net.imglib2.imklib.access.DoubleBufferAccess\n",
    "import org.jetbrains.numkt.core.*\n",
    "import org.jetbrains.numkt.math.*\n",
    "import org.jetbrains.numkt.*"
   ]
  },
  {
   "cell_type": "code",
   "execution_count": 3,
   "metadata": {},
   "outputs": [
    {
     "name": "stdout",
     "output_type": "stream",
     "text": [
      "ArrayImg [15]: [0.0 ,1.0 ,2.0 ,3.0 ,4.0 ,5.0 ,6.0 ,7.0 ,8.0 ,9.0 ,10.0 ,11.0 ,12.0 ,13.0 ,14.0]\n",
      "[ 0.  1.  2.  3.  4.  5.  6.  7.  8.  9. 10. 11. 12. 13. 14.]\n",
      "ArrayImg [15]: [0.0 ,1.0 ,1.4142135623730951 ,1.7320508075688772 ,2.0 ,2.23606797749979 ,2.449489742783178 ,2.6457513110645907 ,2.8284271247461903 ,3.0 ,3.1622776601683795 ,3.3166247903554 ,3.4641016151377544 ,3.605551275463989 ,3.7416573867739413]\n",
      "[0.         1.         1.41421356 1.73205081 2.         2.23606798\n",
      " 2.44948974 2.64575131 2.82842712 3.         3.16227766 3.31662479\n",
      " 3.46410162 3.60555128 3.74165739]\n"
     ]
    }
   ],
   "source": [
    "val a = arange(15.0)\n",
    "val access = DoubleBufferAccess(a.data!!)\n",
    "val dimg = ArrayImgs.doubles(access, a.size.toLong())\n",
    "println(dimg.flatStringRepresentation)\n",
    "println(a)\n",
    "dimg.forEach { it.set(kotlin.math.sqrt(it.realDouble)) }\n",
    "println(dimg.flatStringRepresentation)\n",
    "println(a)"
   ]
  }
 ],
 "metadata": {
  "kernelspec": {
   "display_name": "Kotlin",
   "language": "kotlin",
   "name": "kotlin"
  },
  "language_info": {
   "codemirror_mode": "text/x-kotlin",
   "file_extension": ".kt",
   "mimetype": "text/x-kotlin",
   "name": "kotlin",
   "pygments_lexer": "kotlin",
   "version": "1.4.20-dev-2342"
  }
 },
 "nbformat": 4,
 "nbformat_minor": 4
}
