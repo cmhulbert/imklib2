{
 "cells": [
  {
   "cell_type": "markdown",
   "metadata": {},
   "source": [
    "# ImkLib Functions\n",
    "ImgLib2 offers an API to generate virtual functions through the `FunctionRealRandomAccessible` that are evaluated at real locations on demand."
   ]
  },
  {
   "cell_type": "code",
   "execution_count": 1,
   "metadata": {},
   "outputs": [
    {
     "data": {
      "text/html": [
       "   <div id=\"zA8ft5\"></div>\n",
       "   <script type=\"text/javascript\" data-lets-plot-script=\"library\">\n",
       "       if(!window.letsPlotCallQueue) {\n",
       "           window.letsPlotCallQueue = [];\n",
       "       }; \n",
       "       window.letsPlotCall = function(f) {\n",
       "           window.letsPlotCallQueue.push(f);\n",
       "       };\n",
       "       (function() {\n",
       "           var script = document.createElement(\"script\");\n",
       "           script.type = \"text/javascript\";\n",
       "           script.src = \"https://dl.bintray.com/jetbrains/lets-plot/lets-plot-1.5.2.min.js\";\n",
       "           script.onload = function() {\n",
       "               window.letsPlotCall = function(f) {f();};\n",
       "               window.letsPlotCallQueue.forEach(function(f) {f();});\n",
       "               window.letsPlotCallQueue = [];\n",
       "               \n",
       "               \n",
       "           };\n",
       "           script.onerror = function(event) {\n",
       "               window.letsPlotCall = function(f) {};\n",
       "               window.letsPlotCallQueue = [];\n",
       "               var div = document.createElement(\"div\");\n",
       "               div.style.color = 'darkred';\n",
       "               div.textContent = 'Error loading Lets-Plot JS';\n",
       "               document.getElementById(\"zA8ft5\").appendChild(div);\n",
       "           };\n",
       "           var e = document.getElementById(\"zA8ft5\");\n",
       "           e.appendChild(script);\n",
       "       })();\n",
       "   </script>"
      ]
     },
     "metadata": {},
     "output_type": "display_data"
    }
   ],
   "source": [
    "// set up dependencies\n",
    "\n",
    "// use local repo for now; not deployed to remote maven repo yet\n",
    "@file:Repository(\"*mavenLocal\")\n",
    "@file:Repository(\"https://maven.scijava.org/content/groups/public\")\n",
    "// requires installation into local maven repository (./gradlew build publishToMavenLocal)\n",
    "@file:DependsOn(\"net.imglib2:imklib2:0.1.0-SNAPSHOT\")\n",
    "@file:DependsOn(\"net.imglib2:imglib2-label-multisets:0.8.1\")\n",
    "@file:DependsOn(\"sc.fiji:bigdataviewer-vistools:1.0.0-beta-21\")\n",
    "%use lets-plot"
   ]
  },
  {
   "cell_type": "code",
   "execution_count": 2,
   "metadata": {},
   "outputs": [],
   "source": [
    "// for hsv to rgb\n",
    "import java.awt.Color\n",
    "\n",
    "import bdv.util.BdvFunctions\n",
    "import bdv.util.BdvOptions\n",
    "import kotlin.math.min\n",
    "import kotlin.math.pow\n",
    "import kotlin.math.sqrt\n",
    "import kotlin.random.Random\n",
    "import net.imglib2.converter.Converter\n",
    "import net.imglib2.type.numeric.ARGBType\n",
    "import net.imglib2.type.numeric.integer.IntType\n",
    "import net.imglib2.imklib.*"
   ]
  },
  {
   "cell_type": "code",
   "execution_count": 3,
   "metadata": {},
   "outputs": [
    {
     "data": {
      "text/plain": [
       "bdv.util.BdvStackSource@638a88f6"
      ]
     },
     "execution_count": 3,
     "metadata": {},
     "output_type": "execute_result"
    }
   ],
   "source": [
    "val euclideanNormSquared2D = imklib.function(2, { imklib.types.double }) { s, t ->\n",
    "    t.setReal(s.getDoublePosition(0).pow(2) + s.getDoublePosition(1).pow(2))\n",
    "}\n",
    "val interval1 = intArrayOf(-256, -256, 0, 0).intervalMinMax\n",
    "val interval2 = intArrayOf(0, 0, +256, +256).intervalMinMax\n",
    "val bdv = BdvFunctions.show(euclideanNormSquared2D.rastered[interval1], \"Euclidean norm 2D 1\", BdvOptions.options().is2D())\n",
    "BdvFunctions.show(euclideanNormSquared2D.rastered[interval2], \"Euclidean norm 2D 2\", BdvOptions.options().is2D().addTo(bdv))"
   ]
  },
  {
   "cell_type": "markdown",
   "metadata": {},
   "source": [
    "## Fractals"
   ]
  },
  {
   "cell_type": "code",
   "execution_count": 4,
   "metadata": {},
   "outputs": [],
   "source": [
    "// utility function to convert into ARGB space, if desired\n",
    "// modify this for cool looking results\n",
    "fun makeConverter(n: Int, random: Random? = null): Converter<IntType, ARGBType> {\n",
    "    val colors = IntArray(n) {\n",
    "        val hue = random?.nextDouble(1.0) ?: it.toDouble() / n\n",
    "        val saturation = 0.3\n",
    "        val value = it.toDouble() / n\n",
    "        val rgb = Color.HSBtoRGB(hue.toFloat(), saturation.toFloat(), value.toFloat())\n",
    "        val r = (rgb shr 16) and 0xff\n",
    "        val g = (rgb shr  8) and 0xff\n",
    "        val b = (rgb shr  0) and 0xff\n",
    "        val argb = ARGBType.rgba(r, g, b, 0)\n",
    "        if (it == n - 1) 0 else argb\n",
    "    }\n",
    "    return Converter { s, t -> t.set(colors[min(s.integer, n - 1)]) }\n",
    "}"
   ]
  },
  {
   "cell_type": "markdown",
   "metadata": {},
   "source": [
    "### Julia\n",
    "\n",
    "Wikipedia has a list of cool values for c: https://en.wikipedia.org/wiki/Julia_set#Quadratic_polynomials"
   ]
  },
  {
   "cell_type": "code",
   "execution_count": 5,
   "metadata": {},
   "outputs": [],
   "source": [
    "// c&p from Stephan Saalfeld's Java code snippet\n",
    "// Julia with c = 0.2 + i0.6\n",
    "fun julia(real: Double, imaginary: Double, r: Double, cRe: Double, cIm: Double, iterations: Int): Int {\n",
    "    var i = 0\n",
    "    var re = real\n",
    "    var im = imaginary\n",
    "    while (i < iterations && re * re + im * im < r*r) {\n",
    "        val e = re * re - im * im\n",
    "        im = 2 * re * im + cIm\n",
    "        re = e + cRe\n",
    "        ++i\n",
    "    }\n",
    "    return i\n",
    "}"
   ]
  },
  {
   "cell_type": "markdown",
   "metadata": {},
   "source": [
    "#### Fixed c and radius"
   ]
  },
  {
   "cell_type": "code",
   "execution_count": 6,
   "metadata": {},
   "outputs": [],
   "source": [
    "val iterations = 256\n",
    "val cIm = 0.6\n",
    "val cRe = 0.2\n",
    "// play around with r; for r ~ 1, very \"interesting looking results\"\n",
    "val r = 2.0\n",
    "val fractal = imklib.function(2, { imklib.types.int }) { s, t ->\n",
    "    t.setInteger(julia(s.getDoublePosition(0), s.getDoublePosition(1), r, cRe, cIm, iterations))\n",
    "}\n",
    "val interval = intArrayOf(-1, -1, +1, +1).intervalMinMax\n",
    "val convertedFractal = fractal.convert(ARGBType(), makeConverter(iterations, Random(1)))\n",
    "// show either convertedFractal or fractal\n",
    "BdvFunctions.show(convertedFractal, interval, \"julia\", BdvOptions.options().is2D()).setDisplayRange(0.0, 64.0)"
   ]
  },
  {
   "cell_type": "markdown",
   "metadata": {},
   "source": [
    "#### Fixed c and variable radius"
   ]
  },
  {
   "cell_type": "code",
   "execution_count": 7,
   "metadata": {},
   "outputs": [],
   "source": [
    "val iterations = 256\n",
    "val cIm = 0.6\n",
    "val cRe = -0.4\n",
    "val fractal = imklib.function(3, { imklib.types.int }) { s, t ->\n",
    "    t.setInteger(julia(s.getDoublePosition(0), s.getDoublePosition(1), s.getDoublePosition(2), cRe, cIm, iterations))\n",
    "}\n",
    "val interval = intArrayOf(-1, -1, 0, +1, +1, +4).intervalMinMax\n",
    "val convertedFractal = fractal.convert(ARGBType(), makeConverter(iterations, Random(1)))\n",
    "// show either convertedFractal or fractal\n",
    "BdvFunctions.show(convertedFractal, interval, \"julia\", BdvOptions.options()).setDisplayRange(0.0, 64.0)"
   ]
  },
  {
   "cell_type": "markdown",
   "metadata": {},
   "source": [
    "### Mandelbrot"
   ]
  },
  {
   "cell_type": "code",
   "execution_count": 8,
   "metadata": {},
   "outputs": [],
   "source": [
    "fun mandelbrot(real: Double, imaginary: Double, r: Double, iterations: Int): Int {\n",
    "    var i = 0\n",
    "    var re = 0.0\n",
    "    var im = 0.0\n",
    "    while (i < iterations && re * re + im * im < r*r) {\n",
    "        val e = re * re - im * im + real\n",
    "        im = 2 * re * im + imaginary\n",
    "        re = e\n",
    "        ++i\n",
    "    }\n",
    "    return i\n",
    "}"
   ]
  },
  {
   "cell_type": "code",
   "execution_count": 9,
   "metadata": {},
   "outputs": [],
   "source": [
    "val iterations = 256\n",
    "val fractal = imklib.function(3, { imklib.types.int }) { s, t ->\n",
    "    t.setInteger(mandelbrot(s.getDoublePosition(0), s.getDoublePosition(1), s.getDoublePosition(2), iterations))\n",
    "}\n",
    "val interval = intArrayOf(-1, -1, 0, +1, +1, +4).intervalMinMax\n",
    "val convertedFractal = fractal.convert(ARGBType(), makeConverter(iterations, Random(1)))\n",
    "// show either convertedFractal or fractal\n",
    "BdvFunctions.show(convertedFractal, interval, \"mandelbrot\", BdvOptions.options()).setDisplayRange(0.0, iterations.toDouble())"
   ]
  },
  {
   "cell_type": "markdown",
   "metadata": {},
   "source": [
    "### Tricorn"
   ]
  },
  {
   "cell_type": "code",
   "execution_count": 10,
   "metadata": {},
   "outputs": [],
   "source": [
    "fun tricorn(real: Double, imaginary: Double, r: Double, iterations: Int): Int {\n",
    "    var i = 0\n",
    "    var re = 0.0\n",
    "    var im = 0.0\n",
    "    while (i < iterations && re * re + im * im < r*r) {\n",
    "        val e = re * re - im * im + real\n",
    "        im = -2 * re * im + imaginary\n",
    "        re = e\n",
    "        ++i\n",
    "    }\n",
    "    return i\n",
    "}"
   ]
  },
  {
   "cell_type": "code",
   "execution_count": 11,
   "metadata": {},
   "outputs": [],
   "source": [
    "val iterations = 256\n",
    "val fractal = imklib.function(3, { imklib.types.int }) { s, t ->\n",
    "    t.setInteger(tricorn(s.getDoublePosition(0), s.getDoublePosition(1), s.getDoublePosition(2), iterations))\n",
    "}\n",
    "val interval = intArrayOf(-1, -1, 0, +1, +1, +4).intervalMinMax\n",
    "val convertedFractal = fractal.convert(ARGBType(), makeConverter(iterations, Random(1)))\n",
    "// show either convertedFractal or fractal\n",
    "BdvFunctions.show(convertedFractal, interval, \"tricorn\", BdvOptions.options()).setDisplayRange(0.0, iterations.toDouble())"
   ]
  }
 ],
 "metadata": {
  "kernelspec": {
   "display_name": "Kotlin",
   "language": "kotlin",
   "name": "kotlin"
  },
  "language_info": {
   "codemirror_mode": "text/x-kotlin",
   "file_extension": ".kt",
   "mimetype": "text/x-kotlin",
   "name": "kotlin",
   "pygments_lexer": "kotlin",
   "version": "1.4.20-dev-2342"
  }
 },
 "nbformat": 4,
 "nbformat_minor": 4
}
