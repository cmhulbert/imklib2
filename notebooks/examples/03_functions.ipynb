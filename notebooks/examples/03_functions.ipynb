{
 "cells": [
  {
   "cell_type": "markdown",
   "metadata": {},
   "source": [
    "# ImkLib Functions\n",
    "ImgLib2 offers an API to generate virtual functions through the `FunctionRealRandomAccessible` that are evaluated at real locations on demand."
   ]
  },
  {
   "cell_type": "code",
   "execution_count": 1,
   "metadata": {},
   "outputs": [
    {
     "data": {
      "text/html": [
       "   <div id=\"qDoqXp\"></div>\n",
       "   <script type=\"text/javascript\" data-lets-plot-script=\"library\">\n",
       "       if(!window.letsPlotCallQueue) {\n",
       "           window.letsPlotCallQueue = [];\n",
       "       }; \n",
       "       window.letsPlotCall = function(f) {\n",
       "           window.letsPlotCallQueue.push(f);\n",
       "       };\n",
       "       (function() {\n",
       "           var script = document.createElement(\"script\");\n",
       "           script.type = \"text/javascript\";\n",
       "           script.src = \"https://dl.bintray.com/jetbrains/lets-plot/lets-plot-1.5.2.min.js\";\n",
       "           script.onload = function() {\n",
       "               window.letsPlotCall = function(f) {f();};\n",
       "               window.letsPlotCallQueue.forEach(function(f) {f();});\n",
       "               window.letsPlotCallQueue = [];\n",
       "               \n",
       "               \n",
       "           };\n",
       "           script.onerror = function(event) {\n",
       "               window.letsPlotCall = function(f) {};\n",
       "               window.letsPlotCallQueue = [];\n",
       "               var div = document.createElement(\"div\");\n",
       "               div.style.color = 'darkred';\n",
       "               div.textContent = 'Error loading Lets-Plot JS';\n",
       "               document.getElementById(\"qDoqXp\").appendChild(div);\n",
       "           };\n",
       "           var e = document.getElementById(\"qDoqXp\");\n",
       "           e.appendChild(script);\n",
       "       })();\n",
       "   </script>"
      ]
     },
     "metadata": {},
     "output_type": "display_data"
    }
   ],
   "source": [
    "// set up dependencies\n",
    "\n",
    "// use local repo for now; not deployed to remote maven repo yet\n",
    "@file:Repository(\"*mavenLocal\")\n",
    "@file:Repository(\"https://maven.scijava.org/content/groups/public\")\n",
    "// requires installation into local maven repository (./gradlew build publishToMavenLocal)\n",
    "@file:DependsOn(\"net.imglib2:imklib2:0.1.0-SNAPSHOT\")\n",
    "@file:DependsOn(\"net.imglib2:imglib2-label-multisets:0.8.1\")\n",
    "@file:DependsOn(\"sc.fiji:bigdataviewer-vistools:1.0.0-beta-21\")\n",
    "%use lets-plot"
   ]
  },
  {
   "cell_type": "code",
   "execution_count": 2,
   "metadata": {},
   "outputs": [],
   "source": [
    "import bdv.util.BdvFunctions\n",
    "import bdv.util.BdvOptions\n",
    "import kotlin.math.pow\n",
    "import kotlin.math.sqrt\n",
    "import net.imglib2.imklib.*"
   ]
  },
  {
   "cell_type": "code",
   "execution_count": 3,
   "metadata": {},
   "outputs": [
    {
     "data": {
      "text/plain": [
       "bdv.util.BdvStackSource@35fe3dea"
      ]
     },
     "execution_count": 3,
     "metadata": {},
     "output_type": "execute_result"
    }
   ],
   "source": [
    "val euclideanNormSquared2D = imklib.function(2, { imklib.types.double }) { s, t ->\n",
    "    t.setReal(s.getDoublePosition(0).pow(2) + s.getDoublePosition(1).pow(2))\n",
    "}\n",
    "val interval1 = intArrayOf(-256, -256, 0, 0).intervalMinMax\n",
    "val interval2 = intArrayOf(0, 0, +256, +256).intervalMinMax\n",
    "val bdv = BdvFunctions.show(euclideanNormSquared2D.rastered[interval1], \"Euclidean norm 2D 1\", BdvOptions.options().is2D())\n",
    "BdvFunctions.show(euclideanNormSquared2D.rastered[interval2], \"Euclidean norm 2D 2\", BdvOptions.options().is2D().addTo(bdv))"
   ]
  },
  {
   "cell_type": "markdown",
   "metadata": {},
   "source": [
    "## Fractals"
   ]
  },
  {
   "cell_type": "code",
   "execution_count": 4,
   "metadata": {},
   "outputs": [],
   "source": [
    "// c&p from Stephan Saalfeld's Java code snippet\n",
    "val iterations = 128\n",
    "val fractal = imklib.function(2, { imklib.types.int }) { s, t ->\n",
    "    var i = 0\n",
    "    var v = 0.0\n",
    "    var c = s.getDoublePosition(0)\n",
    "    var d = s.getDoublePosition(1)\n",
    "    while (i < iterations && v < 4096) {\n",
    "        val e = c * c - d * d\n",
    "        d = 2 * c * d\n",
    "        c = e + 0.2\n",
    "        d += 0.6\n",
    "        v = sqrt(c * c + d * d)\n",
    "        ++i\n",
    "    }\n",
    "    t.setInteger(i)\n",
    "}\n",
    "val interval = intArrayOf(-1, -1, +1, +1).intervalMinMax\n",
    "BdvFunctions.show(fractal, interval, \"fractal\", BdvOptions.options().is2D()).setDisplayRange(0.0, 64.0)"
   ]
  }
 ],
 "metadata": {
  "kernelspec": {
   "display_name": "Kotlin",
   "language": "kotlin",
   "name": "kotlin"
  },
  "language_info": {
   "codemirror_mode": "text/x-kotlin",
   "file_extension": ".kt",
   "mimetype": "text/x-kotlin",
   "name": "kotlin",
   "pygments_lexer": "kotlin",
   "version": "1.4.20-dev-2342"
  }
 },
 "nbformat": 4,
 "nbformat_minor": 4
}
